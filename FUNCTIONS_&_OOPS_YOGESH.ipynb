{
  "nbformat": 4,
  "nbformat_minor": 0,
  "metadata": {
    "colab": {
      "provenance": []
    },
    "kernelspec": {
      "name": "python3",
      "display_name": "Python 3"
    },
    "language_info": {
      "name": "python"
    }
  },
  "cells": [
    {
      "cell_type": "markdown",
      "source": [
        "(1) Explain the importance of Functions.\n",
        "\n",
        "Functions are essential in programming because they promote code reusability, improve readability, and support modularity. By breaking down complex tasks into smaller, manageable parts, functions make the code easier to maintain and debug. They also reduce redundancy, as the same logic can be reused multiple times, making the code more efficient and organized."
      ],
      "metadata": {
        "id": "AJ89diKebV1-"
      }
    },
    {
      "cell_type": "code",
      "source": [
        "# (2) Write a basic function to greet students\n",
        "\n",
        "def greet_student(name):\n",
        "    print(f\"Hello, {name}! Welcome to the class.\")\n",
        "greet_student(\"Yogesh\")"
      ],
      "metadata": {
        "colab": {
          "base_uri": "https://localhost:8080/"
        },
        "id": "ooV3eSECcYE2",
        "outputId": "f2d9295f-f0c7-4b4c-9dd1-9913cfa3091b"
      },
      "execution_count": 2,
      "outputs": [
        {
          "output_type": "stream",
          "name": "stdout",
          "text": [
            "Hello, Yogesh! Welcome to the class.\n"
          ]
        }
      ]
    },
    {
      "cell_type": "markdown",
      "source": [
        "(3) What is the difference between print and return statements.\n",
        "\n",
        "The 'print' statement outputs a value to the console, while the 'return' statement sends a value back from a function to the place where it was called. 'print' is used for displaying information, while 'return' is used for passing data out of a function."
      ],
      "metadata": {
        "id": "D4Bf1Ap3b7g5"
      }
    },
    {
      "cell_type": "markdown",
      "source": [
        "(4) What are *args and **kwargs ?\n",
        "\n",
        "`*args` and `**kwargs` in Python are used to pass a variable number of arguments to a function. `*args` collects extra positional arguments into a tuple, allowing the function to accept any number of arguments. On the other hand, `**kwargs` collects extra keyword arguments into a dictionary, allowing for flexible named argument passing. These are helpful when you’re not sure how many arguments will be passed to the function."
      ],
      "metadata": {
        "id": "IuGjOFixdQnD"
      }
    },
    {
      "cell_type": "markdown",
      "source": [
        "(5) Explain the iterator function.\n",
        "\n",
        "Iterator function: An iterator is an object in Python that allows you to iterate over a sequence (like a list or tuple) using the __iter__() and __next__() methods. The __iter__() method initializes the iterator and returns the iterator object, while the __next__() method returns the next value in the sequence and raises StopIteration when there are no more items to return."
      ],
      "metadata": {
        "id": "44xLHuSVeSN9"
      }
    },
    {
      "cell_type": "code",
      "source": [
        "# (6) Write a code that generates the squares of numbers from 1 to n using a generators\n",
        "\n",
        "def generate_squares(n):\n",
        "    for i in range(1, n + 1):\n",
        "        yield i * i\n",
        "for square in generate_squares(5):\n",
        "    print(square)"
      ],
      "metadata": {
        "colab": {
          "base_uri": "https://localhost:8080/"
        },
        "id": "AEjOsGejehHX",
        "outputId": "018eb8e8-fbed-4cc8-a7a4-c019d16bad7e"
      },
      "execution_count": 8,
      "outputs": [
        {
          "output_type": "stream",
          "name": "stdout",
          "text": [
            "1\n",
            "4\n",
            "9\n",
            "16\n",
            "25\n"
          ]
        }
      ]
    },
    {
      "cell_type": "code",
      "source": [
        "# (7) Write a code that generates palindromic numbers up to n using a generator.\n",
        "\n",
        "def generate_palindromes(n):\n",
        "    for num in range(1, n + 1):\n",
        "        if str(num) == str(num)[::-1]:\n",
        "            yield num\n",
        "for palindrome in generate_palindromes(10):\n",
        "    print(palindrome)"
      ],
      "metadata": {
        "colab": {
          "base_uri": "https://localhost:8080/"
        },
        "id": "9tVtCEHeewaA",
        "outputId": "d8e30a39-dbac-4683-a21a-356c1711a1b8"
      },
      "execution_count": 9,
      "outputs": [
        {
          "output_type": "stream",
          "name": "stdout",
          "text": [
            "1\n",
            "2\n",
            "3\n",
            "4\n",
            "5\n",
            "6\n",
            "7\n",
            "8\n",
            "9\n"
          ]
        }
      ]
    },
    {
      "cell_type": "code",
      "source": [
        "# (8) Write a code that generates even numbers from 2 to n using a generator\n",
        "\n",
        "def generate_evens(n):\n",
        "    for i in range(2, n + 1, 2):\n",
        "        yield i\n",
        "for even in generate_evens(10):\n",
        "    print(even)"
      ],
      "metadata": {
        "colab": {
          "base_uri": "https://localhost:8080/"
        },
        "id": "BUblWHsSfCG1",
        "outputId": "1cbdd4d6-831a-43ea-ebe0-a77dcdb63fff"
      },
      "execution_count": 10,
      "outputs": [
        {
          "output_type": "stream",
          "name": "stdout",
          "text": [
            "2\n",
            "4\n",
            "6\n",
            "8\n",
            "10\n"
          ]
        }
      ]
    },
    {
      "cell_type": "code",
      "source": [
        "# (9) Write a code that generates powers of two up to n using a generators\n",
        "\n",
        "def generate_powers_of_two(n):\n",
        "    i = 1\n",
        "    while i <= n:\n",
        "        yield i\n",
        "        i *= 2\n",
        "for power in generate_powers_of_two(10):\n",
        "    print(power)"
      ],
      "metadata": {
        "colab": {
          "base_uri": "https://localhost:8080/"
        },
        "id": "XKJUrtvZfWPX",
        "outputId": "4c13b106-8fe2-46ba-f875-20b98b2094c8"
      },
      "execution_count": 11,
      "outputs": [
        {
          "output_type": "stream",
          "name": "stdout",
          "text": [
            "1\n",
            "2\n",
            "4\n",
            "8\n"
          ]
        }
      ]
    },
    {
      "cell_type": "code",
      "source": [
        "# (10) Write a code that generates prime numbers up to n using a generators.\n",
        "\n",
        "def generate_primes(n):\n",
        "    for num in range(2, n + 1):\n",
        "        is_prime = True\n",
        "        for i in range(2, int(num**0.5) + 1):\n",
        "            if num % i == 0:\n",
        "                is_prime = False\n",
        "                break\n",
        "        if is_prime:\n",
        "            yield num\n",
        "for prime in generate_primes(10):\n",
        "    print(prime)"
      ],
      "metadata": {
        "colab": {
          "base_uri": "https://localhost:8080/"
        },
        "id": "_6j-baUEfdyb",
        "outputId": "6852c07a-5dd7-4038-c19e-c83d2dfcbe11"
      },
      "execution_count": 12,
      "outputs": [
        {
          "output_type": "stream",
          "name": "stdout",
          "text": [
            "2\n",
            "3\n",
            "5\n",
            "7\n"
          ]
        }
      ]
    },
    {
      "cell_type": "code",
      "source": [
        "# (11) Lambda function to calculate the sum of two numbers:\n",
        "\n",
        "sum_two_numbers = lambda a, b: a + b\n",
        "result = sum_two_numbers(5, 3)\n",
        "print(result)  # Output: 8"
      ],
      "metadata": {
        "colab": {
          "base_uri": "https://localhost:8080/"
        },
        "id": "kbLBzFI5fpSH",
        "outputId": "44abd147-6af6-49b6-c016-3b66f5f4917d"
      },
      "execution_count": 13,
      "outputs": [
        {
          "output_type": "stream",
          "name": "stdout",
          "text": [
            "8\n"
          ]
        }
      ]
    },
    {
      "cell_type": "code",
      "source": [
        "# (12) Lambda function to calculate the square of a given number:\n",
        "\n",
        "square_number = lambda x: x * x\n",
        "result = square_number(4)\n",
        "print(result)  # Output: 16"
      ],
      "metadata": {
        "colab": {
          "base_uri": "https://localhost:8080/"
        },
        "id": "QusnuCOJg7B7",
        "outputId": "9cf87a4c-0483-4a59-8ee4-5bf83faf0061"
      },
      "execution_count": 14,
      "outputs": [
        {
          "output_type": "stream",
          "name": "stdout",
          "text": [
            "16\n"
          ]
        }
      ]
    },
    {
      "cell_type": "code",
      "source": [
        "# (13) Lambda function to check whether a given number is even or odd:\n",
        "\n",
        "check_even_odd = lambda x: \"Even\" if x % 2 == 0 else \"Odd\"\n",
        "result = check_even_odd(7)\n",
        "print(result)  # Output: Odd"
      ],
      "metadata": {
        "id": "OlFPCoy3hDDb"
      },
      "execution_count": null,
      "outputs": []
    },
    {
      "cell_type": "code",
      "source": [
        "# (14) Lambda function to concatenate two strings:\n",
        "\n",
        "concatenate_strings = lambda str1, str2: str1 + str2\n",
        "result = concatenate_strings(\"Hello\", \" World!\")\n",
        "print(result)  # Output: Hello World!"
      ],
      "metadata": {
        "colab": {
          "base_uri": "https://localhost:8080/"
        },
        "id": "9KRgvsNIhSPl",
        "outputId": "9f320a46-f4cf-4caf-9a45-f5b5d1ba54c9"
      },
      "execution_count": 15,
      "outputs": [
        {
          "output_type": "stream",
          "name": "stdout",
          "text": [
            "Hello World!\n"
          ]
        }
      ]
    },
    {
      "cell_type": "code",
      "source": [
        "# (15) Lambda function to find the maximum of three given numbers:\n",
        "\n",
        "max_of_three = lambda a, b, c: max(a, b, c)\n",
        "result = max_of_three(10, 25, 15)\n",
        "print(result)  # Output: 25"
      ],
      "metadata": {
        "colab": {
          "base_uri": "https://localhost:8080/"
        },
        "id": "SwuPaQq1hcFP",
        "outputId": "c72995b2-b0d8-46da-e14e-cf0c5b8f3713"
      },
      "execution_count": 16,
      "outputs": [
        {
          "output_type": "stream",
          "name": "stdout",
          "text": [
            "25\n"
          ]
        }
      ]
    },
    {
      "cell_type": "code",
      "source": [
        "# (16) Code to generate the squares of even numbers from a given list:\n",
        "\n",
        "even_squares = lambda lst: [x * x for x in lst if x % 2 == 0]\n",
        "result = even_squares([1, 2, 3, 4, 5, 6])\n",
        "print(result)  # Output: [4, 16, 36]"
      ],
      "metadata": {
        "colab": {
          "base_uri": "https://localhost:8080/"
        },
        "id": "EhhzJpyLhjuk",
        "outputId": "46a6f621-9a46-4e2b-ca40-39867964fef9"
      },
      "execution_count": 17,
      "outputs": [
        {
          "output_type": "stream",
          "name": "stdout",
          "text": [
            "[4, 16, 36]\n"
          ]
        }
      ]
    },
    {
      "cell_type": "code",
      "source": [
        "# (17) Code to calculate the product of positive numbers from a given list:\n",
        "\n",
        "product_of_positive = lambda lst: [x for x in lst if x > 0]\n",
        "result = product_of_positive([1, -2, 3, 4, -5])\n",
        "product = 1\n",
        "for num in result:\n",
        "    product *= num\n",
        "print(product)  # Output: 12 (1 * 3 * 4)"
      ],
      "metadata": {
        "colab": {
          "base_uri": "https://localhost:8080/"
        },
        "id": "xKb7tVhchy8A",
        "outputId": "e78814f8-bd58-4e48-8c19-83c82853214f"
      },
      "execution_count": 18,
      "outputs": [
        {
          "output_type": "stream",
          "name": "stdout",
          "text": [
            "12\n"
          ]
        }
      ]
    },
    {
      "cell_type": "code",
      "source": [
        "# (18) Code to double the values of odd numbers from a given list:\n",
        "\n",
        "double_odd = lambda lst: [x * 2 for x in lst if x % 2 != 0]\n",
        "result = double_odd([1, 2, 3, 4, 5])\n",
        "print(result)"
      ],
      "metadata": {
        "colab": {
          "base_uri": "https://localhost:8080/"
        },
        "id": "7FKX0FzjiFIW",
        "outputId": "8a4ed41e-92f4-4f6c-ceb0-f7d64d46b6ae"
      },
      "execution_count": 19,
      "outputs": [
        {
          "output_type": "stream",
          "name": "stdout",
          "text": [
            "[2, 6, 10]\n"
          ]
        }
      ]
    },
    {
      "cell_type": "code",
      "source": [
        "# (19) Code to calculate the sum of cubes of numbers from a given list:\n",
        "\n",
        "sum_of_cubes = lambda lst: sum([x ** 3 for x in lst])\n",
        "result = sum_of_cubes([1, 2, 3, 4])\n",
        "print(result)  # Output: 100 (1^3 + 2^3 + 3^3 + 4^3)"
      ],
      "metadata": {
        "colab": {
          "base_uri": "https://localhost:8080/"
        },
        "id": "M1-ghEefiQdV",
        "outputId": "29aa2009-0bbc-4ea3-ed34-a9a3c2adb403"
      },
      "execution_count": 21,
      "outputs": [
        {
          "output_type": "stream",
          "name": "stdout",
          "text": [
            "100\n"
          ]
        }
      ]
    },
    {
      "cell_type": "code",
      "source": [
        "# (20) Code to filter out prime numbers from a given list:\n",
        "\n",
        "def is_prime(num):\n",
        "    if num < 2:\n",
        "        return False\n",
        "    for i in range(2, int(num**0.5) + 1):\n",
        "        if num % i == 0:\n",
        "            return False\n",
        "    return True\n",
        "prime_numbers = lambda lst: [x for x in lst if is_prime(x)]\n",
        "result = prime_numbers([1, 2, 3, 4, 5, 6, 7, 8, 9, 10])\n",
        "print(result)  # Output: [2, 3, 5, 7]"
      ],
      "metadata": {
        "id": "Pcg-oQTmiyO0"
      },
      "execution_count": null,
      "outputs": []
    },
    {
      "cell_type": "code",
      "source": [
        "# (21) Lambda function to calculate the sum of two numbers:\n",
        "\n",
        "sum_two_numbers = lambda a, b: a + b\n",
        "result = sum_two_numbers(5, 3)\n",
        "print(result)  # Output: 8"
      ],
      "metadata": {
        "colab": {
          "base_uri": "https://localhost:8080/"
        },
        "id": "Uz9B4fWDi_mA",
        "outputId": "45f50d38-f39f-4e98-a0a0-3fa34c933e11"
      },
      "execution_count": 22,
      "outputs": [
        {
          "output_type": "stream",
          "name": "stdout",
          "text": [
            "8\n"
          ]
        }
      ]
    },
    {
      "cell_type": "code",
      "source": [
        "# (22) Lambda function to calculate the square of a given number:\n",
        "\n",
        "square_number = lambda x: x * x\n",
        "result = square_number(4)\n",
        "print(result)  # Output: 16"
      ],
      "metadata": {
        "colab": {
          "base_uri": "https://localhost:8080/"
        },
        "id": "1W4DdApojRGD",
        "outputId": "0d88284b-a1f0-4e8f-b0ce-30459d3130b3"
      },
      "execution_count": 23,
      "outputs": [
        {
          "output_type": "stream",
          "name": "stdout",
          "text": [
            "16\n"
          ]
        }
      ]
    },
    {
      "cell_type": "code",
      "source": [
        "# (23) Lambda function to check whether a given number is even or odd:\n",
        "\n",
        "check_even_odd = lambda x: \"Even\" if x % 2 == 0 else \"Odd\"\n",
        "result = check_even_odd(7)\n",
        "print(result)  # Output: Odd"
      ],
      "metadata": {
        "colab": {
          "base_uri": "https://localhost:8080/"
        },
        "id": "RBgIRBNhjVGC",
        "outputId": "8b524ae1-6f44-4d58-d3d3-d37d5b212eab"
      },
      "execution_count": 24,
      "outputs": [
        {
          "output_type": "stream",
          "name": "stdout",
          "text": [
            "Odd\n"
          ]
        }
      ]
    },
    {
      "cell_type": "code",
      "source": [
        "# (24) Lambda function to concatenate two strings:\n",
        "\n",
        "concatenate_strings = lambda str1, str2: str1 + str2\n",
        "result = concatenate_strings(\"Hello\", \" World!\")\n",
        "print(result)  # Output: Hello World!"
      ],
      "metadata": {
        "colab": {
          "base_uri": "https://localhost:8080/"
        },
        "id": "nV28pJ76jelG",
        "outputId": "08baf3e1-6701-4107-aa64-ae868af5d4f7"
      },
      "execution_count": 25,
      "outputs": [
        {
          "output_type": "stream",
          "name": "stdout",
          "text": [
            "Hello World!\n"
          ]
        }
      ]
    },
    {
      "cell_type": "code",
      "source": [
        "# (25) Lambda function to find the maximum of three given numbers:\n",
        "\n",
        "max_of_three = lambda a, b, c: max(a, b, c)\n",
        "result = max_of_three(10, 25, 15)\n",
        "print(result)  # Output: 25"
      ],
      "metadata": {
        "colab": {
          "base_uri": "https://localhost:8080/"
        },
        "id": "kYvbBfzwjmIb",
        "outputId": "403e7001-5520-4302-d0a6-cd15e0a01f99"
      },
      "execution_count": 26,
      "outputs": [
        {
          "output_type": "stream",
          "name": "stdout",
          "text": [
            "25\n"
          ]
        }
      ]
    },
    {
      "cell_type": "markdown",
      "source": [
        "(26) What is Encapsulation in OOP?\n",
        "\n",
        "Encapsulation is one of the core principles of Object-Oriented Programming (OOP). It refers to the bundling of data (variables) and methods (functions) that operate on that data within a single unit or class. This concept helps restrict direct access to some of the object's components, which can prevent the accidental modification of data and provides a controlled interface for interacting with the object. Encapsulation is achieved through access modifiers like private, protected, and public. In Python, encapsulation is often done using naming conventions (e.g., prefixing a variable with an underscore _ to indicate it's intended to be private)."
      ],
      "metadata": {
        "id": "4NhTdO_fj0CS"
      }
    },
    {
      "cell_type": "markdown",
      "source": [
        "(27) Use of Access Modifiers in Python Classes:\n",
        "\n",
        "In Python, access modifiers are used to define the visibility and accessibility of class attributes and methods. There are three primary access levels:\n",
        "\n",
        "*Public: By default, all attributes and methods in Python are public, meaning they can be accessed directly from outside the class.\n",
        "\n",
        "*Protected: Protected members are denoted by a single underscore (_). This is a convention to indicate that the member is intended to be used only within the class and its subclasses (not strictly enforced in Python).\n",
        "\n",
        "*Private: Private members are denoted by a double underscore (__). This creates name mangling, making it harder (but not impossible) to access the attribute or method from outside the class."
      ],
      "metadata": {
        "id": "0vox8A0Ekf_S"
      }
    },
    {
      "cell_type": "markdown",
      "source": [
        "(28) Inheritance in OOP:\n",
        "\n",
        "Inheritance is a fundamental concept in Object-Oriented Programming (OOP) where a class (child or subclass) inherits attributes and methods from another class (parent or superclass). This allows code reuse and creates a hierarchical relationship between classes."
      ],
      "metadata": {
        "id": "BJdYvp9tlAV4"
      }
    },
    {
      "cell_type": "code",
      "source": [
        "class Animal:\n",
        "    def make_sound(self):\n",
        "        print(\"Generic animal sound\")\n",
        "class Dog(Animal):  # Dog inherits from Animal\n",
        "    def make_sound(self):\n",
        "        print(\"Woof!\")\n",
        "dog = Dog()\n",
        "dog.make_sound()  # Output: Woof!"
      ],
      "metadata": {
        "colab": {
          "base_uri": "https://localhost:8080/"
        },
        "id": "OUHgJlDmlXcj",
        "outputId": "69b16995-64b9-4c9e-a458-10b3f9e1aa8f"
      },
      "execution_count": 27,
      "outputs": [
        {
          "output_type": "stream",
          "name": "stdout",
          "text": [
            "Woof!\n"
          ]
        }
      ]
    },
    {
      "cell_type": "markdown",
      "source": [
        "(29) Polymorphism in OOP:\n",
        "\n",
        "Polymorphism refers to the ability of different classes to be treated as instances of the same class through inheritance. It also allows methods to have the same name but behave differently depending on the object calling them. In Python, polymorphism is typically achieved through method overriding."
      ],
      "metadata": {
        "id": "ZsLwuGfMlMHi"
      }
    },
    {
      "cell_type": "code",
      "source": [
        "class Animal:\n",
        "    def make_sound(self):\n",
        "        print(\"Generic animal sound\")\n",
        "class Dog(Animal):\n",
        "    def make_sound(self):\n",
        "        print(\"Woof!\")\n",
        "class Cat(Animal):\n",
        "    def make_sound(self):\n",
        "        print(\"Meow!\")\n",
        "animals = [Dog(), Cat()]\n",
        "for animal in animals:\n",
        "    animal.make_sound()"
      ],
      "metadata": {
        "colab": {
          "base_uri": "https://localhost:8080/"
        },
        "id": "f36bCl4xjwka",
        "outputId": "18c9b849-2c8a-467c-a8c3-95a18344c419"
      },
      "execution_count": 28,
      "outputs": [
        {
          "output_type": "stream",
          "name": "stdout",
          "text": [
            "Woof!\n",
            "Meow!\n"
          ]
        }
      ]
    },
    {
      "cell_type": "markdown",
      "source": [
        "(30) Method Overriding in Python:\n",
        "\n",
        "Method overriding occurs when a child class provides a specific implementation of a method that is already defined in its parent class. This allows the child class to modify or extend the behavior of the parent class method."
      ],
      "metadata": {
        "id": "qBV6J9rxlhgg"
      }
    },
    {
      "cell_type": "code",
      "source": [
        "class Animal:\n",
        "    def make_sound(self):\n",
        "        print(\"Generic animal sound\")\n",
        "class Dog(Animal):\n",
        "    def make_sound(self):\n",
        "        print(\"Woof!\")  # Overriding the method\n",
        "dog = Dog()\n",
        "dog.make_sound()  # Output: Woof!"
      ],
      "metadata": {
        "colab": {
          "base_uri": "https://localhost:8080/"
        },
        "id": "-jZhPbo5lub2",
        "outputId": "49a6561d-b769-430c-b1f7-847319d668b1"
      },
      "execution_count": 29,
      "outputs": [
        {
          "output_type": "stream",
          "name": "stdout",
          "text": [
            "Woof!\n"
          ]
        }
      ]
    },
    {
      "cell_type": "code",
      "source": [
        "# (31) Define Parent Class Animal with a Method make_sound:\n",
        "\n",
        "class Animal:\n",
        "    def make_sound(self):\n",
        "        print(\"Generic animal sound\")\n",
        "class Dog(Animal):\n",
        "    def make_sound(self):\n",
        "        print(\"Woof!\")\n",
        "animal = Animal()\n",
        "dog = Dog()\n",
        "animal.make_sound()  # Output: Generic animal sound\n",
        "dog.make_sound()     # Output: Woof!"
      ],
      "metadata": {
        "colab": {
          "base_uri": "https://localhost:8080/"
        },
        "id": "aqw_3qwLl8rm",
        "outputId": "cfc593ec-252f-4c29-a402-3e2f082dedbe"
      },
      "execution_count": 30,
      "outputs": [
        {
          "output_type": "stream",
          "name": "stdout",
          "text": [
            "Generic animal sound\n",
            "Woof!\n"
          ]
        }
      ]
    },
    {
      "cell_type": "code",
      "source": [
        "# (32) Override Method move in Dog Class:\n",
        "\n",
        "class Animal:\n",
        "    def move(self):\n",
        "        print(\"Animal moves\")\n",
        "class Dog(Animal):\n",
        "    def move(self):\n",
        "        print(\"Dog runs\")\n",
        "animal = Animal()\n",
        "dog = Dog()\n",
        "animal.move()  # Output: Animal moves\n",
        "dog.move()     # Output: Dog runs"
      ],
      "metadata": {
        "colab": {
          "base_uri": "https://localhost:8080/"
        },
        "id": "y7AyVogumMFP",
        "outputId": "66fa027a-27fd-4a21-f308-976cb377b202"
      },
      "execution_count": 31,
      "outputs": [
        {
          "output_type": "stream",
          "name": "stdout",
          "text": [
            "Animal moves\n",
            "Dog runs\n"
          ]
        }
      ]
    },
    {
      "cell_type": "code",
      "source": [
        "# (33) Create a Class Mammal with a Method reproduce:\n",
        "\n",
        "class Mammal:\n",
        "    def reproduce(self):\n",
        "        print(\"Giving birth to live young.\")\n",
        "class Dog(Mammal):\n",
        "    def make_sound(self):\n",
        "        print(\"Woof!\")\n",
        "class DogMammal(Dog, Mammal):\n",
        "    pass\n",
        "dog_mammal = DogMammal()\n",
        "dog_mammal.reproduce()  # Output: Giving birth to live young.\n",
        "dog_mammal.make_sound()  # Output: Woof!"
      ],
      "metadata": {
        "colab": {
          "base_uri": "https://localhost:8080/"
        },
        "id": "5oefG3dXmRx2",
        "outputId": "99ae97b2-da53-4ca9-8de5-1be126ea0ee9"
      },
      "execution_count": 32,
      "outputs": [
        {
          "output_type": "stream",
          "name": "stdout",
          "text": [
            "Giving birth to live young.\n",
            "Woof!\n"
          ]
        }
      ]
    },
    {
      "cell_type": "code",
      "source": [
        "# (34) Create a class GermanShepherd inheriting from Dog and override the make_sound method:\n",
        "\n",
        "class Dog:\n",
        "    def make_sound(self):\n",
        "        print(\"Woof!\")\n",
        "class GermanShepherd(Dog):\n",
        "    def make_sound(self):\n",
        "        print(\"Bark!\")\n",
        "gs = GermanShepherd()\n",
        "gs.make_sound()  # Output: Bark!"
      ],
      "metadata": {
        "colab": {
          "base_uri": "https://localhost:8080/"
        },
        "id": "kQc9pootmaYm",
        "outputId": "3ed6d04a-a815-41fc-8876-33132f1b3b19"
      },
      "execution_count": 33,
      "outputs": [
        {
          "output_type": "stream",
          "name": "stdout",
          "text": [
            "Bark!\n"
          ]
        }
      ]
    },
    {
      "cell_type": "code",
      "source": [
        "# (35) Define constructors in both the Animal and Dog classes with different initialization parameters:\n",
        "\n",
        "class Animal:\n",
        "    def __init__(self, species):\n",
        "        self.species = species\n",
        "class Dog(Animal):\n",
        "    def __init__(self, species, breed):\n",
        "        super().__init__(species)\n",
        "        self.breed = breed\n",
        "dog = Dog(\"Canine\", \"German Shepherd\")\n",
        "print(dog.species)  # Output: Canine\n",
        "print(dog.breed)    # Output: German Shepherd"
      ],
      "metadata": {
        "colab": {
          "base_uri": "https://localhost:8080/"
        },
        "id": "e8NtFa4OnEWT",
        "outputId": "3fd5314e-0ef0-404f-bae2-0a1ce4151786"
      },
      "execution_count": 34,
      "outputs": [
        {
          "output_type": "stream",
          "name": "stdout",
          "text": [
            "Canine\n",
            "German Shepherd\n"
          ]
        }
      ]
    },
    {
      "cell_type": "markdown",
      "source": [
        "(36) What is abstraction in Python? How is it implemented?\n",
        "\n",
        "Abstraction in Python hides complex implementation details and exposes only essential features. It's implemented using abstract base classes (ABCs) and abstract methods, which must be implemented by subclasses. The abc module provides the tools to create abstract classes."
      ],
      "metadata": {
        "id": "MMuPdxQKnV7D"
      }
    },
    {
      "cell_type": "code",
      "source": [
        "from abc import ABC, abstractmethod\n",
        "class Animal(ABC):\n",
        "    @abstractmethod\n",
        "    def make_sound(self):\n",
        "        pass\n",
        "class Dog(Animal):\n",
        "    def make_sound(self):\n",
        "        print(\"Woof!\")\n",
        "dog = Dog()\n",
        "dog.make_sound()  # Output: Woof!"
      ],
      "metadata": {
        "colab": {
          "base_uri": "https://localhost:8080/"
        },
        "id": "7wkYbLqCnQbO",
        "outputId": "92fa5fad-36c4-44c6-87e0-e0391e1a417d"
      },
      "execution_count": 35,
      "outputs": [
        {
          "output_type": "stream",
          "name": "stdout",
          "text": [
            "Woof!\n"
          ]
        }
      ]
    },
    {
      "cell_type": "markdown",
      "source": [
        "(37) Explain the importance of abstraction in OOP:\n",
        "\n",
        "Abstraction simplifies complex systems by focusing only on essential behaviors and hiding unnecessary implementation details. It improves code maintainability, readability, and reusability by defining common interfaces for related classes and reducing code duplication."
      ],
      "metadata": {
        "id": "eeJakfNmnlrq"
      }
    },
    {
      "cell_type": "markdown",
      "source": [
        "(38) How are abstract methods different from regular methods in Python?\n",
        "\n",
        "Abstract methods in Python are declared in abstract base classes and do not have an implementation. They define a contract that subclasses must implement. Regular methods have a complete implementation and can be used directly by objects of the class."
      ],
      "metadata": {
        "id": "1_m7XfwMnpvl"
      }
    },
    {
      "cell_type": "markdown",
      "source": [
        "(39) How can you achieve abstraction using interfaces in Python?\n",
        "\n",
        "Python doesn’t have formal interfaces like other languages. However, you can achieve abstraction using abstract base classes (ABCs) and abstract methods, where the abstract base class acts as the interface."
      ],
      "metadata": {
        "id": "fD-CXURdnwA7"
      }
    },
    {
      "cell_type": "code",
      "source": [
        "# (40) Example of how abstraction can be utilized to create a common interface for a group of related classes in Python:\n",
        "\n",
        "from abc import ABC, abstractmethod\n",
        "class Shape(ABC):\n",
        "    @abstractmethod\n",
        "    def area(self):\n",
        "        pass\n",
        "class Circle(Shape):\n",
        "    def __init__(self, radius):\n",
        "        self.radius = radius\n",
        "    def area(self):\n",
        "        return 3.14 * self.radius * self.radius\n",
        "class Square(Shape):\n",
        "    def __init__(self, side):\n",
        "        self.side = side\n",
        "    def area(self):\n",
        "        return self.side * self.side\n",
        "circle = Circle(5)\n",
        "square = Square(4)\n",
        "print(circle.area())  # Output: 78.5\n",
        "print(square.area())  # Output: 16"
      ],
      "metadata": {
        "colab": {
          "base_uri": "https://localhost:8080/"
        },
        "id": "66PHDP_kn6WX",
        "outputId": "f4ba3ad0-243f-4edf-988c-e6f7e9e5b125"
      },
      "execution_count": 36,
      "outputs": [
        {
          "output_type": "stream",
          "name": "stdout",
          "text": [
            "78.5\n",
            "16\n"
          ]
        }
      ]
    },
    {
      "cell_type": "markdown",
      "source": [
        "(41) How does Python achieve polymorphism through method overriding?\n",
        "\n",
        "Polymorphism allows objects of different classes to respond to the same method call in their own way. Method overriding is a key way Python achieves polymorphism, where a subclass provides its own implementation of a method defined in the parent classes."
      ],
      "metadata": {
        "id": "BuDoMZmTn6Mw"
      }
    },
    {
      "cell_type": "code",
      "source": [
        "class Animal:\n",
        "    def make_sound(self):\n",
        "        print(\"Animal sound\")\n",
        "class Dog(Animal):\n",
        "    def make_sound(self):\n",
        "        print(\"Woof!\")\n",
        "animals = [Animal(), Dog()]\n",
        "for animal in animals:\n",
        "    animal.make_sound()"
      ],
      "metadata": {
        "colab": {
          "base_uri": "https://localhost:8080/"
        },
        "id": "n4R6zrHaoLAh",
        "outputId": "8fe8ff95-4be8-4ae8-fa72-77de22290290"
      },
      "execution_count": 37,
      "outputs": [
        {
          "output_type": "stream",
          "name": "stdout",
          "text": [
            "Animal sound\n",
            "Woof!\n"
          ]
        }
      ]
    },
    {
      "cell_type": "code",
      "source": [
        "# (42) Define a base class with a method and a subclass that overrides the method:\n",
        "\n",
        "class Animal:\n",
        "    def make_sound(self):\n",
        "        print(\"Animal sound\")\n",
        "class Dog(Animal):\n",
        "    def make_sound(self):\n",
        "        print(\"Woof!\")\n",
        "dog = Dog()\n",
        "dog.make_sound()  # Output: Woof!"
      ],
      "metadata": {
        "colab": {
          "base_uri": "https://localhost:8080/"
        },
        "id": "qSZXbxiXoRvA",
        "outputId": "14e260c0-2b01-4854-b448-fdad391e9938"
      },
      "execution_count": 38,
      "outputs": [
        {
          "output_type": "stream",
          "name": "stdout",
          "text": [
            "Woof!\n"
          ]
        }
      ]
    },
    {
      "cell_type": "code",
      "source": [
        "# (43) Define a base class and multiple subclasses with overridden methods:\n",
        "\n",
        "class Animal:\n",
        "    def make_sound(self):\n",
        "        print(\"Animal sound\")\n",
        "class Dog(Animal):\n",
        "    def make_sound(self):\n",
        "        print(\"Woof!\")\n",
        "class Cat(Animal):\n",
        "    def make_sound(self):\n",
        "        print(\"Meow!\")\n",
        "animals = [Dog(), Cat()]\n",
        "for animal in animals:\n",
        "    animal.make_sound()"
      ],
      "metadata": {
        "colab": {
          "base_uri": "https://localhost:8080/"
        },
        "id": "BBcvxJrloZkU",
        "outputId": "2fe5075d-d262-496e-dad4-5138ef460489"
      },
      "execution_count": 39,
      "outputs": [
        {
          "output_type": "stream",
          "name": "stdout",
          "text": [
            "Woof!\n",
            "Meow!\n"
          ]
        }
      ]
    },
    {
      "cell_type": "markdown",
      "source": [
        "(44) How does polymorphism improve code readability and reusability?\n",
        "\n",
        "Polymorphism allows code to be written that can work with objects of different types without needing to understand their specific classes. It simplifies code, making it more readable and reusable, as common operations can be applied to different objects without duplication."
      ],
      "metadata": {
        "id": "7vP3WrqRoKqo"
      }
    },
    {
      "cell_type": "markdown",
      "source": [
        "(45) How does Python support polymorphism with duck typing?\n",
        "\n",
        "Python supports polymorphism through duck typing, which means that if an object behaves like a certain type (i.e., has the methods and properties expected), it can be used as that type, regardless of its actual class."
      ],
      "metadata": {
        "id": "VXeZiOr8n2o4"
      }
    },
    {
      "cell_type": "code",
      "source": [
        "class Dog:\n",
        "    def speak(self):\n",
        "        print(\"Woof!\")\n",
        "class Bird:\n",
        "    def speak(self):\n",
        "        print(\"Chirp!\")\n",
        "def make_sound(animal):\n",
        "    animal.speak()\n",
        "make_sound(Dog())  # Output: Woof!\n",
        "make_sound(Bird())  # Output: Chirp!"
      ],
      "metadata": {
        "id": "DTHbMVyDomL2"
      },
      "execution_count": null,
      "outputs": []
    },
    {
      "cell_type": "markdown",
      "source": [
        "(46) How do you achieve encapsulation in Python?\n",
        "\n",
        "Encapsulation is achieved by restricting access to certain details of an object and exposing only necessary parts via public methods. This can be done using private (__) or protected (_) attributes and methods."
      ],
      "metadata": {
        "id": "b8kwvSpYo16q"
      }
    },
    {
      "cell_type": "code",
      "source": [
        "class BankAccount:\n",
        "    def __init__(self, balance):\n",
        "        self.__balance = balance\n",
        "    def deposit(self, amount):\n",
        "        self.__balance += amount\n",
        "    def withdraw(self, amount):\n",
        "        if self.__balance >= amount:\n",
        "            self.__balance -= amount\n",
        "    def check_balance(self):\n",
        "        return self.__balance\n",
        "account = BankAccount(1000)\n",
        "account.deposit(500)\n",
        "print(account.check_balance())  # Output: 1500"
      ],
      "metadata": {
        "colab": {
          "base_uri": "https://localhost:8080/"
        },
        "id": "QoF9s5qho32V",
        "outputId": "61166af7-1420-4a34-854a-93bc371a0e3d"
      },
      "execution_count": 40,
      "outputs": [
        {
          "output_type": "stream",
          "name": "stdout",
          "text": [
            "1500\n"
          ]
        }
      ]
    },
    {
      "cell_type": "markdown",
      "source": [
        "(47) Can encapsulation be bypassed in Python? If so, how?\n",
        "\n",
        "Yes, encapsulation can be bypassed in Python because it relies on conventions like using underscores for private attributes. While private attributes are not strictly enforced, they are name-mangled, making it harder but not impossible to access them directly."
      ],
      "metadata": {
        "id": "FWOdqzoGpEwX"
      }
    },
    {
      "cell_type": "code",
      "source": [
        "class MyClass:\n",
        "    def __init__(self):\n",
        "        self.__private = \"Private\"\n",
        "obj = MyClass()\n",
        "print(obj._MyClass__private)  # Accessing private variable directly"
      ],
      "metadata": {
        "id": "T4ZHEFtypK7J"
      },
      "execution_count": null,
      "outputs": []
    },
    {
      "cell_type": "code",
      "source": [
        "# (48) Implement a class BankAccount with a private balance attribute:\n",
        "\n",
        "class BankAccount:\n",
        "    def __init__(self, balance):\n",
        "        self.__balance = balance\n",
        "    def deposit(self, amount):\n",
        "        self.__balance += amount\n",
        "    def withdraw(self, amount):\n",
        "        if self.__balance >= amount:\n",
        "            self.__balance -= amount\n",
        "    def check_balance(self):\n",
        "        return self.__balance\n",
        "account = BankAccount(1000)\n",
        "account.deposit(500)\n",
        "print(account.check_balance())  # Output: 1500"
      ],
      "metadata": {
        "colab": {
          "base_uri": "https://localhost:8080/"
        },
        "id": "rWcKm4dBpZBP",
        "outputId": "551c1f71-7b40-4de5-ccea-51bfec57cfc8"
      },
      "execution_count": 41,
      "outputs": [
        {
          "output_type": "stream",
          "name": "stdout",
          "text": [
            "1500\n"
          ]
        }
      ]
    },
    {
      "cell_type": "code",
      "source": [
        "# (49) Develop a Person class with private attributes name and email:\n",
        "\n",
        "class Person:\n",
        "    def __init__(self, name, email):\n",
        "        self.__name = name\n",
        "        self.__email = email\n",
        "    def set_email(self, email):\n",
        "        self.__email = email\n",
        "    def get_email(self):\n",
        "        return self.__email\n",
        "person = Person(\"John Doe\", \"john@example.com\")\n",
        "person.set_email(\"john.doe@example.com\")\n",
        "print(person.get_email())  # Output: john.doe@example.com"
      ],
      "metadata": {
        "colab": {
          "base_uri": "https://localhost:8080/"
        },
        "id": "t1h0mRU2puG_",
        "outputId": "671fe711-b097-4448-e17a-9fc099e508fd"
      },
      "execution_count": 42,
      "outputs": [
        {
          "output_type": "stream",
          "name": "stdout",
          "text": [
            "john.doe@example.com\n"
          ]
        }
      ]
    },
    {
      "cell_type": "markdown",
      "source": [
        "(51) Why is encapsulation considered a pillar of OOP?\n",
        "\n",
        "Encapsulation is important because it helps protect the internal state of objects and allows for controlled access to their attributes and methods. This prevents accidental modification and provides a way to enforce consistency and logic in how data is accessed and manipulated."
      ],
      "metadata": {
        "id": "OQYHO0QWp6eq"
      }
    },
    {
      "cell_type": "code",
      "source": [
        "# (52) Create a Decorator in Python that Adds Functionality by Printing a Message Before and After Function Execution:\n",
        "\n",
        "def simple_decorator(func):\n",
        "    def wrapper(*args, **kwargs):\n",
        "        print(\"Before function execution\")\n",
        "        result = func(*args, **kwargs)\n",
        "        print(\"After function execution\")\n",
        "        return result\n",
        "    return wrapper\n",
        "def greet(name):\n",
        "    print(f\"Hello, {name}\")\n",
        "greet(\"John\")"
      ],
      "metadata": {
        "colab": {
          "base_uri": "https://localhost:8080/"
        },
        "id": "ULaotJ3rp3lR",
        "outputId": "605f1aa3-4623-4bef-c67b-8170577b5610"
      },
      "execution_count": 43,
      "outputs": [
        {
          "output_type": "stream",
          "name": "stdout",
          "text": [
            "Hello, John\n"
          ]
        }
      ]
    },
    {
      "cell_type": "code",
      "source": [
        "# (53) Modify the Decorator to Accept Arguments and Print the Function Name Along with the Message:\n",
        "\n",
        "def decorator_with_arguments(func):\n",
        "    def wrapper(*args, **kwargs):\n",
        "        print(f\"Function {func.__name__} is about to be executed\")\n",
        "        result = func(*args, **kwargs)\n",
        "        print(f\"Function {func.__name__} has finished execution\")\n",
        "        return result\n",
        "    return wrapper\n",
        "def greet(name):\n",
        "    print(f\"Hello, {name}\")\n",
        "greet(\"Alice\")"
      ],
      "metadata": {
        "colab": {
          "base_uri": "https://localhost:8080/"
        },
        "id": "QeH_0DPqshrv",
        "outputId": "2fbd31cd-5b10-4bfd-c91e-e32a4b666ea5"
      },
      "execution_count": 44,
      "outputs": [
        {
          "output_type": "stream",
          "name": "stdout",
          "text": [
            "Hello, Alice\n"
          ]
        }
      ]
    },
    {
      "cell_type": "code",
      "source": [
        "# (54) Create Two Decorators and Apply Them to a Single Function (Ensuring Order of Execution):\n",
        "\n",
        "def decorator_one(func):\n",
        "    def wrapper(*args, **kwargs):\n",
        "        print(\"Decorator One Before\")\n",
        "        result = func(*args, **kwargs)\n",
        "        print(\"Decorator One After\")\n",
        "        return result\n",
        "    return wrapper\n",
        "def decorator_two(func):\n",
        "    def wrapper(*args, **kwargs):\n",
        "        print(\"Decorator Two Before\")\n",
        "        result = func(*args, **kwargs)\n",
        "        print(\"Decorator Two After\")\n",
        "        return result\n",
        "    return wrapper\n",
        "@decorator_one\n",
        "@decorator_two\n",
        "def greet(name):\n",
        "    print(f\"Hello, {name}\")\n",
        "greet(\"Bob\")"
      ],
      "metadata": {
        "colab": {
          "base_uri": "https://localhost:8080/"
        },
        "id": "0pIDDYFNsqC5",
        "outputId": "6188d7c9-8008-44c4-b918-ce52b6bab88b"
      },
      "execution_count": 45,
      "outputs": [
        {
          "output_type": "stream",
          "name": "stdout",
          "text": [
            "Decorator One Before\n",
            "Decorator Two Before\n",
            "Hello, Bob\n",
            "Decorator Two After\n",
            "Decorator One After\n"
          ]
        }
      ]
    },
    {
      "cell_type": "code",
      "source": [
        "# (55) Modify the Decorator to Accept and Pass Function Arguments to the Wrapped Function:\n",
        "\n",
        "def decorator_with_args(func):\n",
        "    def wrapper(*args, **kwargs):\n",
        "        print(\"Arguments received:\", args, kwargs)\n",
        "        return func(*args, **kwargs)\n",
        "    return wrapper\n",
        "@decorator_with_args\n",
        "def greet(name, age):\n",
        "    print(f\"Hello {name}, you are {age} years old.\")\n",
        "greet(\"Charlie\", 30)"
      ],
      "metadata": {
        "colab": {
          "base_uri": "https://localhost:8080/"
        },
        "id": "4yOCAFQus3je",
        "outputId": "2e9408a1-caf4-47dc-c94f-b9170ccdbd95"
      },
      "execution_count": 46,
      "outputs": [
        {
          "output_type": "stream",
          "name": "stdout",
          "text": [
            "Arguments received: ('Charlie', 30) {}\n",
            "Hello Charlie, you are 30 years old.\n"
          ]
        }
      ]
    },
    {
      "cell_type": "code",
      "source": [
        "# (56) Create a Decorator That Preserves the Metadata of the Original Function:\n",
        "\n",
        "from functools import wraps\n",
        "def preserve_metadata(func):\n",
        "    @wraps(func)\n",
        "    def wrapper(*args, **kwargs):\n",
        "        return func(*args, **kwargs)\n",
        "    return wrapper\n",
        "@preserve_metadata\n",
        "def greet(name):\n",
        "    \"\"\"This function greets a person by their name.\"\"\"\n",
        "    print(f\"Hello, {name}\")\n",
        "print(greet.__name__)  # Output: greet\n",
        "print(greet.__doc__)   # Output: This function greets a person by their name."
      ],
      "metadata": {
        "colab": {
          "base_uri": "https://localhost:8080/"
        },
        "id": "uyfoCTnBtCpF",
        "outputId": "961b8bba-79a2-46f1-c14c-e544031cf826"
      },
      "execution_count": 47,
      "outputs": [
        {
          "output_type": "stream",
          "name": "stdout",
          "text": [
            "greet\n",
            "This function greets a person by their name.\n"
          ]
        }
      ]
    },
    {
      "cell_type": "code",
      "source": [
        "# (57) Create a Python Class Calculator with a Static Method add that Takes in Two Numbers and Returns Their Sum:\n",
        "\n",
        "class Calculator:\n",
        "    @staticmethod\n",
        "    def add(a, b):\n",
        "        return a + b\n",
        "result = Calculator.add(5, 3)\n",
        "print(result)  # Output: 8"
      ],
      "metadata": {
        "colab": {
          "base_uri": "https://localhost:8080/"
        },
        "id": "A5W-dG16tUp_",
        "outputId": "da6e6bb8-f973-41fd-b95d-f8ab778c02d5"
      },
      "execution_count": 48,
      "outputs": [
        {
          "output_type": "stream",
          "name": "stdout",
          "text": [
            "8\n"
          ]
        }
      ]
    },
    {
      "cell_type": "code",
      "source": [
        "# (58) Create a Python Class Employee with a Class Method get_employee_count that Returns the Total Number of Employees Created:\n",
        "\n",
        "class Employee:\n",
        "    employee_count = 0\n",
        "    def __init__(self, name):\n",
        "        self.name = name\n",
        "        Employee.employee_count += 1\n",
        "    @classmethod\n",
        "    def get_employee_count(cls):\n",
        "        return cls.employee_count\n",
        "e1 = Employee(\"Alice\")\n",
        "e2 = Employee(\"Bob\")\n",
        "print(Employee.get_employee_count())  # Output: 2"
      ],
      "metadata": {
        "colab": {
          "base_uri": "https://localhost:8080/"
        },
        "id": "zmigL_aJtbbE",
        "outputId": "a164af2c-a2da-4f7a-8068-1dd9709b7f68"
      },
      "execution_count": 49,
      "outputs": [
        {
          "output_type": "stream",
          "name": "stdout",
          "text": [
            "2\n"
          ]
        }
      ]
    },
    {
      "cell_type": "code",
      "source": [
        "# (59) Create a Python Class StringFormatter with a Static Method reverse_string that Takes a String as Input and Returns Its Reverse:\n",
        "\n",
        "class StringFormatter:\n",
        "    @staticmethod\n",
        "    def reverse_string(s):\n",
        "        return s[::-1]\n",
        "result = StringFormatter.reverse_string(\"hello\")\n",
        "print(result)  # Output: olleh"
      ],
      "metadata": {
        "colab": {
          "base_uri": "https://localhost:8080/"
        },
        "id": "1C919xrQtoTy",
        "outputId": "83364f7d-8fd2-46c0-d696-f8c1b2f1c6fa"
      },
      "execution_count": 50,
      "outputs": [
        {
          "output_type": "stream",
          "name": "stdout",
          "text": [
            "olleh\n"
          ]
        }
      ]
    },
    {
      "cell_type": "code",
      "source": [
        "# (60) Create a Python Class Circle with a Class Method calculate_area That Calculates the Area of a Circle Given Its Radius:\n",
        "\n",
        "import math\n",
        "class Circle:\n",
        "    @classmethod\n",
        "    def calculate_area(cls, radius):\n",
        "        return math.pi * radius * radius\n",
        "area = Circle.calculate_area(5)\n",
        "print(area)  # Output: 78.53981633974483"
      ],
      "metadata": {
        "colab": {
          "base_uri": "https://localhost:8080/"
        },
        "id": "2Fxdyjz2tvwn",
        "outputId": "a8728f71-ab5c-49b1-e02b-e3e87ab9b30a"
      },
      "execution_count": 51,
      "outputs": [
        {
          "output_type": "stream",
          "name": "stdout",
          "text": [
            "78.53981633974483\n"
          ]
        }
      ]
    },
    {
      "cell_type": "code",
      "source": [
        "# (61) Create a Python class TemperatureConverter with a static method celsius_to_fahrenheit that converts Celsius to Fahrenheit:\n",
        "\n",
        "class TemperatureConverter:\n",
        "    @staticmethod\n",
        "    def celsius_to_fahrenheit(celsius):\n",
        "        return (celsius * 9/5) + 32\n",
        "temp = TemperatureConverter()\n",
        "fahrenheit = temp.celsius_to_fahrenheit(25)\n",
        "print(fahrenheit)  # Output: 77.0"
      ],
      "metadata": {
        "colab": {
          "base_uri": "https://localhost:8080/"
        },
        "id": "Yvg_xBHnt35M",
        "outputId": "79dbc72f-b8dc-494d-fce1-2a4124fafb85"
      },
      "execution_count": 52,
      "outputs": [
        {
          "output_type": "stream",
          "name": "stdout",
          "text": [
            "77.0\n"
          ]
        }
      ]
    },
    {
      "cell_type": "code",
      "source": [
        "# (62) What is the purpose of the __str__() method in Python classes? Provide an example:\n",
        "# The __str__() method is used to define the string representation of an object.\n",
        "# It is called by the str() function or print() to provide a human-readable description of the object.\n",
        "\n",
        "class Person:\n",
        "    def __init__(self, name, age):\n",
        "        self.name = name\n",
        "        self.age = age\n",
        "    def __str__(self):\n",
        "        return f\"Person(name: {self.name}, age: {self.age})\"\n",
        "p = Person(\"Alice\", 30)\n",
        "print(p)  # Output: Person(name: Alice, age: 30)"
      ],
      "metadata": {
        "colab": {
          "base_uri": "https://localhost:8080/"
        },
        "id": "LGotyNQXuDt7",
        "outputId": "2573c6a1-c4be-4884-9e29-5e2f033b3f39"
      },
      "execution_count": 54,
      "outputs": [
        {
          "output_type": "stream",
          "name": "stdout",
          "text": [
            "Person(name: Alice, age: 30)\n"
          ]
        }
      ]
    },
    {
      "cell_type": "code",
      "source": [
        "# (63) How does the __len__() method work in Python? Provide an example:\n",
        "# The __len__() method is used to define the behavior of the len() function for objects of a class.\n",
        "#It should return the length of the object (e.g., number of elements in a collection).\n",
        "\n",
        "class MyList:\n",
        "    def __init__(self, items):\n",
        "        self.items = items\n",
        "    def __len__(self):\n",
        "        return len(self.items)\n",
        "my_list = MyList([1, 2, 3, 4])\n",
        "print(len(my_list))  # Output: 4"
      ],
      "metadata": {
        "colab": {
          "base_uri": "https://localhost:8080/"
        },
        "id": "1BIqW4KLuTzZ",
        "outputId": "9052632c-5d5e-4464-a3dd-dc6746393d81"
      },
      "execution_count": 53,
      "outputs": [
        {
          "output_type": "stream",
          "name": "stdout",
          "text": [
            "4\n"
          ]
        }
      ]
    },
    {
      "cell_type": "code",
      "source": [
        "# (64) Explain the usage of the __add__() method in Python classes. Provide an example:\n",
        "# The __add__() method is used to define the behavior of the + operator for objects of a class.\n",
        "# It is called when you try to add two objects of the class.\n",
        "\n",
        "class Point:\n",
        "    def __init__(self, x, y):\n",
        "        self.x = x\n",
        "        self.y = y\n",
        "    def __add__(self, other):\n",
        "        return Point(self.x + other.x, self.y + other.y)\n",
        "    def __str__(self):\n",
        "        return f\"Point({self.x}, {self.y})\"\n",
        "p1 = Point(1, 2)\n",
        "p2 = Point(3, 4)\n",
        "p3 = p1 + p2\n",
        "print(p3)  # Output: Point(4, 6)"
      ],
      "metadata": {
        "colab": {
          "base_uri": "https://localhost:8080/"
        },
        "id": "D2If9kVSujSS",
        "outputId": "bc21febf-e20d-4a76-826c-e58889d7fe44"
      },
      "execution_count": 55,
      "outputs": [
        {
          "output_type": "stream",
          "name": "stdout",
          "text": [
            "Point(4, 6)\n"
          ]
        }
      ]
    },
    {
      "cell_type": "code",
      "source": [
        "# (65) What is the purpose of the __getitem__() method in Python? Provide an example:\n",
        "# The __getitem__() method allows objects to be accessed using square brackets (like a dictionary or list).\n",
        "# It defines how the object retrieves an item by its key or index.\n",
        "\n",
        "class MyList:\n",
        "    def __init__(self, items):\n",
        "        self.items = items\n",
        "\n",
        "    def __getitem__(self, index):\n",
        "        return self.items[index]\n",
        "my_list = MyList([1, 2, 3])\n",
        "print(my_list[1])  # Output: 2"
      ],
      "metadata": {
        "colab": {
          "base_uri": "https://localhost:8080/"
        },
        "id": "4Wxju2zNu13k",
        "outputId": "460c2f6f-128a-40db-a4d1-69a13eab8bd1"
      },
      "execution_count": 56,
      "outputs": [
        {
          "output_type": "stream",
          "name": "stdout",
          "text": [
            "2\n"
          ]
        }
      ]
    },
    {
      "cell_type": "code",
      "source": [
        "# (66) Explain the usage of the __iter__() and __next__() methods in Python. Provide an example using iterators:\n",
        "# The __iter__() method is used to define an iterator for the object, while the __next__() method defines how the next item is retrieved.\n",
        "# Together, they allow an object to be used in a for loop or with the next() function.\n",
        "\n",
        "class CountDown:\n",
        "    def __init__(self, start):\n",
        "        self.start = start\n",
        "    def __iter__(self):\n",
        "        return self\n",
        "    def __next__(self):\n",
        "        if self.start <= 0:\n",
        "            raise StopIteration\n",
        "        self.start -= 1\n",
        "        return self.start\n",
        "countdown = CountDown(5)\n",
        "for num in countdown:\n",
        "    print(num)\n",
        "# Output:\n",
        "# 4\n",
        "# 3\n",
        "# 2\n",
        "# 1\n",
        "# 0"
      ],
      "metadata": {
        "colab": {
          "base_uri": "https://localhost:8080/"
        },
        "id": "bgdXvRxTvB0c",
        "outputId": "d0e5b350-130c-4457-ca88-a2d8af63b16e"
      },
      "execution_count": 57,
      "outputs": [
        {
          "output_type": "stream",
          "name": "stdout",
          "text": [
            "4\n",
            "3\n",
            "2\n",
            "1\n",
            "0\n"
          ]
        }
      ]
    },
    {
      "cell_type": "code",
      "source": [
        "# (67) What is the purpose of a getter method in Python? Provide an example demonstrating the use of a getter method using property decorators:\n",
        "# A getter method allows you to retrieve the value of a private attribute. The @property decorator is used to define getter methods in Python.\n",
        "\n",
        "class Person:\n",
        "    def __init__(self, name):\n",
        "        self._name = name\n",
        "    @property\n",
        "    def name(self):\n",
        "        return self._name\n",
        "person = Person(\"Alice\")\n",
        "print(person.name)  # Output: Alice"
      ],
      "metadata": {
        "colab": {
          "base_uri": "https://localhost:8080/"
        },
        "id": "ND-SvaGhvVLg",
        "outputId": "55707b3e-4bab-421e-c873-8bcff363ece4"
      },
      "execution_count": 59,
      "outputs": [
        {
          "output_type": "stream",
          "name": "stdout",
          "text": [
            "Alice\n"
          ]
        }
      ]
    },
    {
      "cell_type": "code",
      "source": [
        "# (68) Explain the role of setter methods in Python. Demonstrate how to use a setter method to modify a class attribute using property decorators:\n",
        "# A setter method allows you to modify the value of a private attribute. It is defined using the @setter decorator after the @property getter method.\n",
        "\n",
        "class Person:\n",
        "    def __init__(self, name):\n",
        "        self._name = name\n",
        "    @property\n",
        "    def name(self):\n",
        "        return self._name\n",
        "    @name.setter\n",
        "    def name(self, new_name):\n",
        "        self._name = new_name\n",
        "person = Person(\"Alice\")\n",
        "person.name = \"Bob\"  # Setting the name using the setter\n",
        "print(person.name)  # Output: Bob"
      ],
      "metadata": {
        "colab": {
          "base_uri": "https://localhost:8080/"
        },
        "id": "yGqtsY02vlJG",
        "outputId": "ca44e3a5-3423-403a-8478-be26bc7511ee"
      },
      "execution_count": 58,
      "outputs": [
        {
          "output_type": "stream",
          "name": "stdout",
          "text": [
            "Bob\n"
          ]
        }
      ]
    },
    {
      "cell_type": "code",
      "source": [
        "# (69) What is the purpose of the @property decorator in Python? Provide an example illustrating its usage:\n",
        "# The @property decorator allows you to define a method as a property, enabling access to it like an attribute.\n",
        "# It’s useful for encapsulating behavior while providing a simple interface.\n",
        "\n",
        "class Circle:\n",
        "    def __init__(self, radius):\n",
        "        self._radius = radius\n",
        "    @property\n",
        "    def area(self):\n",
        "        return 3.14 * self._radius * self._radius\n",
        "circle = Circle(5)\n",
        "print(circle.area)  # Output: 78.5"
      ],
      "metadata": {
        "colab": {
          "base_uri": "https://localhost:8080/"
        },
        "id": "DUeAtOtmvziN",
        "outputId": "49c3a28a-516d-480c-997d-663f2da0ef5d"
      },
      "execution_count": 60,
      "outputs": [
        {
          "output_type": "stream",
          "name": "stdout",
          "text": [
            "78.5\n"
          ]
        }
      ]
    },
    {
      "cell_type": "code",
      "source": [
        "# (70) Explain the use of the @deleter decorator in Python property decorators. Provide a code example demonstrating its application:\n",
        "# The @deleter decorator is used to define a method that deletes a property. It is invoked when the del keyword is used on the property.\n",
        "\n",
        "class Circle:\n",
        "    def __init__(self, radius):\n",
        "        self._radius = radius\n",
        "    @property\n",
        "    def radius(self):\n",
        "        return self._radius\n",
        "    @radius.deleter\n",
        "    def radius(self):\n",
        "        print(\"Deleting radius\")\n",
        "        del self._radius\n",
        "circle = Circle(5)\n",
        "print(circle.radius)  # Output: 5\n",
        "del circle.radius  # Output: Deleting radius"
      ],
      "metadata": {
        "colab": {
          "base_uri": "https://localhost:8080/"
        },
        "id": "GMMb4CM9v-sj",
        "outputId": "e4446439-b939-44e3-9176-cd5580375fe5"
      },
      "execution_count": 61,
      "outputs": [
        {
          "output_type": "stream",
          "name": "stdout",
          "text": [
            "5\n",
            "Deleting radius\n"
          ]
        }
      ]
    },
    {
      "cell_type": "code",
      "source": [
        "# (71) How does encapsulation relate to property decorators in Python? Provide an example showcasing encapsulation using property decorators:\n",
        "# Encapsulation refers to hiding an object's internal state and providing controlled access via methods or properties.\n",
        "# Using the @property and @setter decorators, we can control how attributes are accessed and modified, which is a key part of encapsulation.\n",
        "\n",
        "class Employee:\n",
        "    def __init__(self, name, salary):\n",
        "        self._name = name\n",
        "        self._salary = salary\n",
        "    @property\n",
        "    def name(self):\n",
        "        return self._name\n",
        "    @property\n",
        "    def salary(self):\n",
        "        return self._salary\n",
        "    @salary.setter\n",
        "    def salary(self, value):\n",
        "        if value < 0:\n",
        "            print(\"Salary cannot be negative!\")\n",
        "        else:\n",
        "            self._salary = value\n",
        "employee = Employee(\"John\", 50000)\n",
        "print(employee.salary)  # Output: 50000\n",
        "employee.salary = -1000  # Output: Salary cannot be negative!\n",
        "print(employee.salary)  # Output: 50000\n"
      ],
      "metadata": {
        "colab": {
          "base_uri": "https://localhost:8080/"
        },
        "id": "SglJxkvkwMel",
        "outputId": "3ecfd41f-9994-457c-e5c6-397dbb0fd8b9"
      },
      "execution_count": 62,
      "outputs": [
        {
          "output_type": "stream",
          "name": "stdout",
          "text": [
            "50000\n",
            "Salary cannot be negative!\n",
            "50000\n"
          ]
        }
      ]
    }
  ]
}